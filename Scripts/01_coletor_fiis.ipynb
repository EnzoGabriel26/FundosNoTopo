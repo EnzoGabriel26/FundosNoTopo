{
 "cells": [
  {
   "cell_type": "markdown",
   "metadata": {},
   "source": [
    "## Aplicativo que coleta dados de fundos imobiliários na internet!"
   ]
  },
  {
   "cell_type": "markdown",
   "metadata": {},
   "source": [
    "### Coletando arquivo .csv do site da b3"
   ]
  },
  {
   "cell_type": "markdown",
   "metadata": {},
   "source": [
    "Importanto das bibliotecas necessárias"
   ]
  },
  {
   "cell_type": "code",
   "execution_count": 19,
   "metadata": {},
   "outputs": [],
   "source": [
    "from selenium import webdriver\n",
    "from selenium.webdriver.common.by import By\n",
    "from selenium.webdriver.support.ui import WebDriverWait\n",
    "from selenium.webdriver.support import expected_conditions as EC\n",
    "from selenium.webdriver.chrome.options import Options\n",
    "import matplotlib.pyplot as plt\n",
    "import time\n",
    "import os"
   ]
  },
  {
   "cell_type": "markdown",
   "metadata": {},
   "source": [
    "Definindo o caminho da pasta que o download vai o nome do arquivo que será salvo"
   ]
  },
  {
   "cell_type": "code",
   "execution_count": 20,
   "metadata": {},
   "outputs": [],
   "source": [
    "base_dir = os.getcwd()\n",
    "download_dir = os.path.join(base_dir, \"../bases_originais\")"
   ]
  },
  {
   "cell_type": "markdown",
   "metadata": {},
   "source": [
    "Verificando se já existe um arquivo com o nome que iremos baixar na pasta, se tiver, excluir"
   ]
  },
  {
   "cell_type": "code",
   "execution_count": 21,
   "metadata": {},
   "outputs": [
    {
     "name": "stdout",
     "output_type": "stream",
     "text": [
      "c:\\Users\\enzot\\OneDrive\\Documentos\\Dev\\Impacta\\Web Data App\\AP1\\Scripts\\../bases_originais\\statusinvest-busca-avancada.csv\n"
     ]
    }
   ],
   "source": [
    "if not os.path.exists(download_dir):\n",
    "    os.makedirs(download_dir)\n",
    "\n",
    "download_archive_name = os.path.join(download_dir, \"statusinvest-busca-avancada.csv\")\n",
    "\n",
    "if os.path.exists(download_archive_name):\n",
    "    os.remove(download_archive_name)\n",
    "print(download_archive_name)\n"
   ]
  },
  {
   "cell_type": "markdown",
   "metadata": {},
   "source": [
    "Configurando as opções do navegador google chrome"
   ]
  },
  {
   "cell_type": "code",
   "execution_count": 22,
   "metadata": {},
   "outputs": [],
   "source": [
    "# Configurando as opções do Chrome\n",
    "chrome_options = Options()\n",
    "# Configurando as preferências para definir a pasta de download\n",
    "prefs = {\n",
    "    \"download.default_directory\": os.path.abspath(download_dir),  # Diretório de download\n",
    "    \"download.prompt_for_download\": False,       # Não perguntar onde salvar o arquivo\n",
    "    \"directory_upgrade\": True,                   # Atualizar o diretório de download, se necessário\n",
    "    \"safebrowsing.enabled\": True,                # Ignorar avisos de arquivos inseguros        \n",
    "}\n",
    "chrome_options.add_experimental_option(\"prefs\", prefs)"
   ]
  },
  {
   "cell_type": "markdown",
   "metadata": {},
   "source": [
    "Abrir chrome com as configurações selecionadas"
   ]
  },
  {
   "cell_type": "code",
   "execution_count": 23,
   "metadata": {},
   "outputs": [],
   "source": [
    "navegador = webdriver.Chrome(options=chrome_options)"
   ]
  },
  {
   "cell_type": "markdown",
   "metadata": {},
   "source": [
    "Abrir o site da b3"
   ]
  },
  {
   "cell_type": "code",
   "execution_count": 24,
   "metadata": {},
   "outputs": [],
   "source": [
    "navegador.get(\"https://statusinvest.com.br/fundos-imobiliarios/busca-avancada\")"
   ]
  },
  {
   "cell_type": "markdown",
   "metadata": {},
   "source": [
    "Baixar o arquivo CSV (já salvando no caminho escolhido anteriormente)"
   ]
  },
  {
   "cell_type": "code",
   "execution_count": 25,
   "metadata": {},
   "outputs": [],
   "source": [
    "navegador.find_element(By.XPATH, '/html/body/main/div[3]/div/div/div/button[2]').click()\n"
   ]
  },
  {
   "cell_type": "code",
   "execution_count": 26,
   "metadata": {},
   "outputs": [
    {
     "name": "stdout",
     "output_type": "stream",
     "text": [
      "Não apareceu propaganda\n"
     ]
    }
   ],
   "source": [
    "try:\n",
    "    time.sleep(5)\n",
    "    navegador.find_element(By.XPATH, '/html/body/div[20]/div/div/div[1]/button/i').click()\n",
    "except:\n",
    "    print('Não apareceu propaganda')"
   ]
  },
  {
   "cell_type": "code",
   "execution_count": 27,
   "metadata": {},
   "outputs": [],
   "source": [
    "navegador.find_element(By.XPATH, '/html/body/main/div[4]/div/div[1]/div[2]/a/span').click()"
   ]
  },
  {
   "cell_type": "code",
   "execution_count": 28,
   "metadata": {},
   "outputs": [],
   "source": [
    "navegador.get(\"https://statusinvest.com.br/indices\")"
   ]
  },
  {
   "cell_type": "code",
   "execution_count": 29,
   "metadata": {},
   "outputs": [],
   "source": [
    "cdi = navegador.find_element(By.XPATH, '/html/body/main/div[2]/div/div/div/table/tbody/tr[4]/td[2]').text\n",
    "ifixS = navegador.find_element(By.XPATH, '/html/body/main/div[4]/div/div/div/table/tbody/tr[2]/td[2]/div/span').text"
   ]
  },
  {
   "cell_type": "markdown",
   "metadata": {},
   "source": [
    "### Criando dataframe com o arquivo csv\n",
    "Importando bibliotecas"
   ]
  },
  {
   "cell_type": "code",
   "execution_count": 30,
   "metadata": {},
   "outputs": [],
   "source": [
    "import pandas as pd\n",
    "import numpy as np"
   ]
  },
  {
   "cell_type": "markdown",
   "metadata": {},
   "source": [
    "Lendo o csv, separado por ; usando o encoding latin1(diferente do utf-8), ignorando a primeira linha (cabeçalho que estava com configurações diferentes do padrão do documento csv)"
   ]
  },
  {
   "cell_type": "code",
   "execution_count": 31,
   "metadata": {},
   "outputs": [
    {
     "data": {
      "text/html": [
       "<div>\n",
       "<style scoped>\n",
       "    .dataframe tbody tr th:only-of-type {\n",
       "        vertical-align: middle;\n",
       "    }\n",
       "\n",
       "    .dataframe tbody tr th {\n",
       "        vertical-align: top;\n",
       "    }\n",
       "\n",
       "    .dataframe thead th {\n",
       "        text-align: right;\n",
       "    }\n",
       "</style>\n",
       "<table border=\"1\" class=\"dataframe\">\n",
       "  <thead>\n",
       "    <tr style=\"text-align: right;\">\n",
       "      <th></th>\n",
       "      <th>TICKER</th>\n",
       "      <th>PRECO</th>\n",
       "      <th>ULTIMO DIVIDENDO</th>\n",
       "      <th>DY</th>\n",
       "      <th>VALOR PATRIMONIAL COTA</th>\n",
       "      <th>P/VP</th>\n",
       "      <th>LIQUIDEZ MEDIA DIARIA</th>\n",
       "      <th>PERCENTUAL EM CAIXA</th>\n",
       "      <th>CAGR DIVIDENDOS 3 ANOS</th>\n",
       "      <th>CAGR VALOR CORA 3 ANOS</th>\n",
       "      <th>PATRIMONIO</th>\n",
       "      <th>N COTISTAS</th>\n",
       "      <th>GESTAO</th>\n",
       "      <th>N COTAS</th>\n",
       "    </tr>\n",
       "  </thead>\n",
       "  <tbody>\n",
       "    <tr>\n",
       "      <th>0</th>\n",
       "      <td>ABCP11</td>\n",
       "      <td>75,89</td>\n",
       "      <td>0,700000</td>\n",
       "      <td>9,22</td>\n",
       "      <td>106,92</td>\n",
       "      <td>0,71</td>\n",
       "      <td>58.177,91</td>\n",
       "      <td>1,83</td>\n",
       "      <td>1,47</td>\n",
       "      <td>7,04</td>\n",
       "      <td>503.496.718,25</td>\n",
       "      <td>15.558,00</td>\n",
       "      <td>Passiva</td>\n",
       "      <td>4.709.082,00</td>\n",
       "    </tr>\n",
       "    <tr>\n",
       "      <th>1</th>\n",
       "      <td>AFHI11</td>\n",
       "      <td>94,51</td>\n",
       "      <td>0,930000</td>\n",
       "      <td>13,19</td>\n",
       "      <td>95,58</td>\n",
       "      <td>0,99</td>\n",
       "      <td>1.109.564,82</td>\n",
       "      <td>9,19</td>\n",
       "      <td>-8,71</td>\n",
       "      <td>0,34</td>\n",
       "      <td>435.416.167,85</td>\n",
       "      <td>42.404,00</td>\n",
       "      <td>Ativa</td>\n",
       "      <td>4.555.618,00</td>\n",
       "    </tr>\n",
       "    <tr>\n",
       "      <th>2</th>\n",
       "      <td>AIEC11</td>\n",
       "      <td>42,42</td>\n",
       "      <td>0,620000</td>\n",
       "      <td>20,46</td>\n",
       "      <td>84,75</td>\n",
       "      <td>0,50</td>\n",
       "      <td>649.803,64</td>\n",
       "      <td>3,71</td>\n",
       "      <td>-1,13</td>\n",
       "      <td>-15,31</td>\n",
       "      <td>408.907.306,13</td>\n",
       "      <td>18.699,00</td>\n",
       "      <td>Ativa</td>\n",
       "      <td>4.824.987,00</td>\n",
       "    </tr>\n",
       "    <tr>\n",
       "      <th>3</th>\n",
       "      <td>AJFI11</td>\n",
       "      <td>7,29</td>\n",
       "      <td>0,070000</td>\n",
       "      <td>11,52</td>\n",
       "      <td>12,25</td>\n",
       "      <td>0,60</td>\n",
       "      <td>631.469,23</td>\n",
       "      <td>0,70</td>\n",
       "      <td>NaN</td>\n",
       "      <td>NaN</td>\n",
       "      <td>387.523.963,60</td>\n",
       "      <td>13.438,00</td>\n",
       "      <td>Ativa</td>\n",
       "      <td>31.625.978,00</td>\n",
       "    </tr>\n",
       "    <tr>\n",
       "      <th>4</th>\n",
       "      <td>ALMI11</td>\n",
       "      <td>577,11</td>\n",
       "      <td>5,000000</td>\n",
       "      <td>2,47</td>\n",
       "      <td>2.172,91</td>\n",
       "      <td>0,27</td>\n",
       "      <td>24.991,77</td>\n",
       "      <td>4,23</td>\n",
       "      <td>NaN</td>\n",
       "      <td>-16,77</td>\n",
       "      <td>241.578.065,81</td>\n",
       "      <td>2.105,00</td>\n",
       "      <td>Passiva</td>\n",
       "      <td>111.177,00</td>\n",
       "    </tr>\n",
       "  </tbody>\n",
       "</table>\n",
       "</div>"
      ],
      "text/plain": [
       "   TICKER   PRECO ULTIMO DIVIDENDO     DY VALOR PATRIMONIAL COTA  P/VP  \\\n",
       "0  ABCP11   75,89         0,700000   9,22                 106,92  0,71   \n",
       "1  AFHI11   94,51         0,930000  13,19                  95,58  0,99   \n",
       "2  AIEC11   42,42         0,620000  20,46                  84,75  0,50   \n",
       "3  AJFI11    7,29         0,070000  11,52                  12,25  0,60   \n",
       "4  ALMI11  577,11         5,000000   2,47               2.172,91  0,27   \n",
       "\n",
       "  LIQUIDEZ MEDIA DIARIA PERCENTUAL EM CAIXA CAGR DIVIDENDOS 3 ANOS  \\\n",
       "0             58.177,91                1,83                   1,47   \n",
       "1          1.109.564,82                9,19                  -8,71   \n",
       "2            649.803,64                3,71                  -1,13   \n",
       "3            631.469,23                0,70                    NaN   \n",
       "4             24.991,77                4,23                    NaN   \n",
       "\n",
       "   CAGR VALOR CORA 3 ANOS      PATRIMONIO N COTISTAS   GESTAO        N COTAS  \n",
       "0                    7,04  503.496.718,25  15.558,00  Passiva   4.709.082,00  \n",
       "1                    0,34  435.416.167,85  42.404,00    Ativa   4.555.618,00  \n",
       "2                  -15,31  408.907.306,13  18.699,00    Ativa   4.824.987,00  \n",
       "3                     NaN  387.523.963,60  13.438,00    Ativa  31.625.978,00  \n",
       "4                  -16,77  241.578.065,81   2.105,00  Passiva     111.177,00  "
      ]
     },
     "execution_count": 31,
     "metadata": {},
     "output_type": "execute_result"
    }
   ],
   "source": [
    "if os.path.exists(download_archive_name):\n",
    "    df = pd.read_csv('../bases_originais/statusinvest-busca-avancada.csv', sep=\";\",)\n",
    "else:\n",
    "   time.sleep(5)\n",
    "   df = pd.read_csv('../bases_originais/statusinvest-busca-avancada.csv', sep=\";\")\n",
    "df.head()"
   ]
  },
  {
   "cell_type": "markdown",
   "metadata": {},
   "source": [
    "## Tratando a base"
   ]
  },
  {
   "cell_type": "code",
   "execution_count": 32,
   "metadata": {},
   "outputs": [],
   "source": [
    "import matplotlib.pyplot as plt"
   ]
  },
  {
   "cell_type": "code",
   "execution_count": 33,
   "metadata": {},
   "outputs": [],
   "source": [
    "dfnovo = df"
   ]
  },
  {
   "cell_type": "code",
   "execution_count": 34,
   "metadata": {},
   "outputs": [],
   "source": [
    "dfnovo['PRECO'] = df['PRECO'].astype(str).str.replace('.', '').str.replace(',', '.').astype(float)\n",
    "dfnovo['ULTIMO DIVIDENDO'] = df['ULTIMO DIVIDENDO'].astype(str).str.replace('.', '').str.replace(',', '.').astype(float)\n",
    "dfnovo['DY'] = df['DY'].astype(str).str.replace('.', '').str.replace(',', '.').astype(float)\n",
    "dfnovo['VALOR PATRIMONIAL COTA'] = df['VALOR PATRIMONIAL COTA'].astype(str).str.replace('.', '').str.replace(',', '.').astype(float)\n",
    "dfnovo['P/VP'] = df['P/VP'].astype(str).str.replace('.', '').str.replace(',', '.').astype(float)\n",
    "dfnovo['LIQUIDEZ MEDIA DIARIA'] = df['LIQUIDEZ MEDIA DIARIA'].astype(str).str.replace('.', '').str.replace(',', '.').astype(float)\n",
    "dfnovo['PERCENTUAL EM CAIXA'] = df['PERCENTUAL EM CAIXA'].astype(str).str.replace('.', '').str.replace(',', '.').astype(float)\n",
    "dfnovo['CAGR DIVIDENDOS 3 ANOS'] = df['CAGR DIVIDENDOS 3 ANOS'].astype(str).str.replace('.', '').str.replace(',', '.').astype(float)\n",
    "dfnovo[' CAGR VALOR CORA 3 ANOS'] = df[' CAGR VALOR CORA 3 ANOS'].astype(str).str.replace('.', '').str.replace(',', '.').astype(float)\n",
    "dfnovo['PATRIMONIO'] = df['PATRIMONIO'].astype(str).str.replace('.', '').str.replace(',', '.').astype(float)\n",
    "dfnovo['N COTISTAS'] = df['N COTISTAS'].astype(str).str.replace('.', '').str.replace(',', '.').astype(float)\n",
    "dfnovo[' N COTAS'] = df[' N COTAS'].astype(str).str.replace('.', '').str.replace(',', '.').astype(float)\n"
   ]
  },
  {
   "cell_type": "code",
   "execution_count": 35,
   "metadata": {},
   "outputs": [
    {
     "data": {
      "text/html": [
       "<div>\n",
       "<style scoped>\n",
       "    .dataframe tbody tr th:only-of-type {\n",
       "        vertical-align: middle;\n",
       "    }\n",
       "\n",
       "    .dataframe tbody tr th {\n",
       "        vertical-align: top;\n",
       "    }\n",
       "\n",
       "    .dataframe thead th {\n",
       "        text-align: right;\n",
       "    }\n",
       "</style>\n",
       "<table border=\"1\" class=\"dataframe\">\n",
       "  <thead>\n",
       "    <tr style=\"text-align: right;\">\n",
       "      <th></th>\n",
       "      <th>TICKER</th>\n",
       "      <th>PRECO</th>\n",
       "      <th>ULTIMO DIVIDENDO</th>\n",
       "      <th>DY</th>\n",
       "      <th>VALOR PATRIMONIAL COTA</th>\n",
       "      <th>P/VP</th>\n",
       "      <th>LIQUIDEZ MEDIA DIARIA</th>\n",
       "      <th>PERCENTUAL EM CAIXA</th>\n",
       "      <th>CAGR DIVIDENDOS 3 ANOS</th>\n",
       "      <th>CAGR VALOR CORA 3 ANOS</th>\n",
       "      <th>PATRIMONIO</th>\n",
       "      <th>N COTISTAS</th>\n",
       "      <th>GESTAO</th>\n",
       "      <th>N COTAS</th>\n",
       "    </tr>\n",
       "  </thead>\n",
       "  <tbody>\n",
       "    <tr>\n",
       "      <th>0</th>\n",
       "      <td>ABCP11</td>\n",
       "      <td>75.89</td>\n",
       "      <td>0.70</td>\n",
       "      <td>9.22</td>\n",
       "      <td>106.92</td>\n",
       "      <td>0.71</td>\n",
       "      <td>58177.91</td>\n",
       "      <td>1.83</td>\n",
       "      <td>1.47</td>\n",
       "      <td>7.04</td>\n",
       "      <td>5.034967e+08</td>\n",
       "      <td>15558.0</td>\n",
       "      <td>Passiva</td>\n",
       "      <td>4709082.0</td>\n",
       "    </tr>\n",
       "    <tr>\n",
       "      <th>1</th>\n",
       "      <td>AFHI11</td>\n",
       "      <td>94.51</td>\n",
       "      <td>0.93</td>\n",
       "      <td>13.19</td>\n",
       "      <td>95.58</td>\n",
       "      <td>0.99</td>\n",
       "      <td>1109564.82</td>\n",
       "      <td>9.19</td>\n",
       "      <td>-8.71</td>\n",
       "      <td>0.34</td>\n",
       "      <td>4.354162e+08</td>\n",
       "      <td>42404.0</td>\n",
       "      <td>Ativa</td>\n",
       "      <td>4555618.0</td>\n",
       "    </tr>\n",
       "    <tr>\n",
       "      <th>2</th>\n",
       "      <td>AIEC11</td>\n",
       "      <td>42.42</td>\n",
       "      <td>0.62</td>\n",
       "      <td>20.46</td>\n",
       "      <td>84.75</td>\n",
       "      <td>0.50</td>\n",
       "      <td>649803.64</td>\n",
       "      <td>3.71</td>\n",
       "      <td>-1.13</td>\n",
       "      <td>-15.31</td>\n",
       "      <td>4.089073e+08</td>\n",
       "      <td>18699.0</td>\n",
       "      <td>Ativa</td>\n",
       "      <td>4824987.0</td>\n",
       "    </tr>\n",
       "    <tr>\n",
       "      <th>3</th>\n",
       "      <td>AJFI11</td>\n",
       "      <td>7.29</td>\n",
       "      <td>0.07</td>\n",
       "      <td>11.52</td>\n",
       "      <td>12.25</td>\n",
       "      <td>0.60</td>\n",
       "      <td>631469.23</td>\n",
       "      <td>0.70</td>\n",
       "      <td>NaN</td>\n",
       "      <td>NaN</td>\n",
       "      <td>3.875240e+08</td>\n",
       "      <td>13438.0</td>\n",
       "      <td>Ativa</td>\n",
       "      <td>31625978.0</td>\n",
       "    </tr>\n",
       "    <tr>\n",
       "      <th>4</th>\n",
       "      <td>ALMI11</td>\n",
       "      <td>577.11</td>\n",
       "      <td>5.00</td>\n",
       "      <td>2.47</td>\n",
       "      <td>2172.91</td>\n",
       "      <td>0.27</td>\n",
       "      <td>24991.77</td>\n",
       "      <td>4.23</td>\n",
       "      <td>NaN</td>\n",
       "      <td>-16.77</td>\n",
       "      <td>2.415781e+08</td>\n",
       "      <td>2105.0</td>\n",
       "      <td>Passiva</td>\n",
       "      <td>111177.0</td>\n",
       "    </tr>\n",
       "  </tbody>\n",
       "</table>\n",
       "</div>"
      ],
      "text/plain": [
       "   TICKER   PRECO  ULTIMO DIVIDENDO     DY  VALOR PATRIMONIAL COTA  P/VP  \\\n",
       "0  ABCP11   75.89              0.70   9.22                  106.92  0.71   \n",
       "1  AFHI11   94.51              0.93  13.19                   95.58  0.99   \n",
       "2  AIEC11   42.42              0.62  20.46                   84.75  0.50   \n",
       "3  AJFI11    7.29              0.07  11.52                   12.25  0.60   \n",
       "4  ALMI11  577.11              5.00   2.47                 2172.91  0.27   \n",
       "\n",
       "   LIQUIDEZ MEDIA DIARIA  PERCENTUAL EM CAIXA  CAGR DIVIDENDOS 3 ANOS  \\\n",
       "0               58177.91                 1.83                    1.47   \n",
       "1             1109564.82                 9.19                   -8.71   \n",
       "2              649803.64                 3.71                   -1.13   \n",
       "3              631469.23                 0.70                     NaN   \n",
       "4               24991.77                 4.23                     NaN   \n",
       "\n",
       "    CAGR VALOR CORA 3 ANOS    PATRIMONIO  N COTISTAS   GESTAO     N COTAS  \n",
       "0                     7.04  5.034967e+08     15558.0  Passiva   4709082.0  \n",
       "1                     0.34  4.354162e+08     42404.0    Ativa   4555618.0  \n",
       "2                   -15.31  4.089073e+08     18699.0    Ativa   4824987.0  \n",
       "3                      NaN  3.875240e+08     13438.0    Ativa  31625978.0  \n",
       "4                   -16.77  2.415781e+08      2105.0  Passiva    111177.0  "
      ]
     },
     "execution_count": 35,
     "metadata": {},
     "output_type": "execute_result"
    }
   ],
   "source": [
    "dfnovo.head()"
   ]
  },
  {
   "cell_type": "code",
   "execution_count": 36,
   "metadata": {},
   "outputs": [
    {
     "data": {
      "image/png": "[encoded data removed]",
      "text/plain": [
       "<Figure size 800x600 with 1 Axes>"
      ]
     },
     "metadata": {},
     "output_type": "display_data"
    }
   ],
   "source": [
    "plt.figure(figsize=(8, 6))\n",
    "dfnovo.boxplot(column=['DY'])\n",
    "plt.title(\"Boxplot com Outliers\")\n",
    "plt.show()\n"
   ]
  },
  {
   "cell_type": "code",
   "execution_count": 37,
   "metadata": {},
   "outputs": [],
   "source": [
    "dfnovo.to_csv('../bases_tratadas/fiis.csv', encoding='utf-8', sep=';')"
   ]
  },
  {
   "cell_type": "code",
   "execution_count": 38,
   "metadata": {},
   "outputs": [
    {
     "data": {
      "text/plain": [
       "Index(['Unnamed: 0', 'TICKER', 'PRECO', 'ULTIMO DIVIDENDO', 'DY',\n",
       "       'VALOR PATRIMONIAL COTA', 'P/VP', 'LIQUIDEZ MEDIA DIARIA',\n",
       "       'PERCENTUAL EM CAIXA', 'CAGR DIVIDENDOS 3 ANOS',\n",
       "       ' CAGR VALOR CORA 3 ANOS', 'PATRIMONIO', 'N COTISTAS', 'GESTAO',\n",
       "       ' N COTAS'],\n",
       "      dtype='object')"
      ]
     },
     "execution_count": 38,
     "metadata": {},
     "output_type": "execute_result"
    }
   ],
   "source": [
    "df = pd.read_csv('../bases_tratadas/fiis.csv', encoding='utf-8', sep=';')\n",
    "df.columns"
   ]
  },
  {
   "cell_type": "code",
   "execution_count": 39,
   "metadata": {},
   "outputs": [],
   "source": [
    "listaifix = [ifixS]\n",
    "listacdi = [cdi]\n",
    "\n",
    "dicindex = {'ifix': listaifix, 'CDI': listacdi}\n",
    "dfindex = pd.DataFrame(dicindex)\n",
    "dfindex.to_csv('../bases_tratadas/indice.csv', sep=';')"
   ]
  }
 ],
 "metadata": {
  "kernelspec": {
   "display_name": "Python 3",
   "language": "python",
   "name": "python3"
  },
  "language_info": {
   "codemirror_mode": {
    "name": "ipython",
    "version": 3
   },
   "file_extension": ".py",
   "mimetype": "text/x-python",
   "name": "python",
   "nbconvert_exporter": "python",
   "pygments_lexer": "ipython3",
   "version": "3.11.9"
  }
 },
 "nbformat": 4,
 "nbformat_minor": 2
}
